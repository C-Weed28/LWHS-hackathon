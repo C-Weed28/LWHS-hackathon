{
 "cells": [
  {
   "cell_type": "code",
   "execution_count": 25,
   "metadata": {},
   "outputs": [],
   "source": [
    "#VERY IMPORTANT: USE A BLACK BACKGROUND AND A WHITE DRAWING UTENSIL\n",
    "#How to Use: Go to \"inputNumber.png\" and edit with paint, then save\n",
    "#MNIST dataset"
   ]
  },
  {
   "cell_type": "code",
   "execution_count": 26,
   "metadata": {
    "scrolled": true
   },
   "outputs": [
    {
     "name": "stdout",
     "output_type": "stream",
     "text": [
      "Populating the interactive namespace from numpy and matplotlib\n"
     ]
    },
    {
     "data": {
      "image/png": "[encoded data removed]",
      "text/plain": [
       "<Figure size 432x288 with 1 Axes>"
      ]
     },
     "metadata": {
      "needs_background": "light"
     },
     "output_type": "display_data"
    }
   ],
   "source": [
    "#plot the handwritten number\n",
    "\n",
    "import numpy as np\n",
    "import matplotlib.pyplot as plt\n",
    "%pylab inline             \n",
    "import matplotlib.image as mpimg\n",
    "img=mpimg.imread('inputNumber.png')\n",
    "imgplot = plt.imshow(img)\n",
    "plt.show()"
   ]
  },
  {
   "cell_type": "code",
   "execution_count": 27,
   "metadata": {},
   "outputs": [
    {
     "name": "stdout",
     "output_type": "stream",
     "text": [
      "start\n",
      "\n",
      "shrunken, unevenly spaced visualization\n",
      "\n",
      "\n",
      "                                                                                    \n",
      "\n",
      "                                                                                    \n",
      "\n",
      "                                                                                    \n",
      "\n",
      "                                 6  49  86  99  110  100  62  20                             \n",
      "\n",
      "                        15  103  190  254  254  254  254  254  254  254  254  113                          \n",
      "\n",
      "                     136  254  254  254  254  254  254  254  254  254  254  254  254  176                       \n",
      "\n",
      "                     252  254  254  254  254  213  170  153  142  160  199  254  254  254  44                    \n",
      "\n",
      "                     159  254  195  107  20                    166  254  254  117                    \n",
      "\n",
      "                        14                             156  254  254  108                    \n",
      "\n",
      "                                                   14  217  254  254  62                    \n",
      "\n",
      "                                                10  175  254  254  237  9                    \n",
      "\n",
      "                                             59  204  254  254  254  85                       \n",
      "\n",
      "                                       37  147  254  254  254  254  121                          \n",
      "\n",
      "                              14  91  169  254  254  254  254  254  129  48                          \n",
      "\n",
      "                           99  254  254  254  254  254  254  254  254  254  254  129                       \n",
      "\n",
      "                           175  254  254  254  254  254  254  254  254  254  254  254  139                    \n",
      "\n",
      "                           79  227  202  145  92  55  27  37  81  167  254  254  254  16                 \n",
      "\n",
      "                                                         194  254  254  90                 \n",
      "\n",
      "                                                         199  254  254  79                 \n",
      "\n",
      "                                                      132  254  254  254  10                 \n",
      "\n",
      "                                                33  178  254  254  254  127                    \n",
      "\n",
      "            20  41  16                    20  72  160  254  254  254  254  166                       \n",
      "\n",
      "         45  247  254  254  247  225  211  213  222  240  254  254  254  254  254  254  124                          \n",
      "\n",
      "         91  254  254  254  254  254  254  254  254  254  254  254  254  254  181  73                             \n",
      "\n",
      "            166  214  237  254  254  254  254  254  254  249  195  143  55                                   \n",
      "\n",
      "                     6  30  41  37  32  14                                               \n",
      "\n",
      "                                                                                    \n",
      "\n",
      "                                                                                    end\n"
     ]
    }
   ],
   "source": [
    "print(\"start\") \n",
    "from __future__ import with_statement\n",
    "from PIL import Image \n",
    "im = Image.open(\"inputNumber.png\") #relative path to file\n",
    "\n",
    "pix = im.load() \n",
    "\n",
    "\n",
    "print(\"\\nshrunken, unevenly spaced visualization\")\n",
    "for y in range(28): \n",
    "    for x in range(28): \n",
    "        rgbToGrayscale = int(0.2125 * pix[x,y][0]) + int(0.7154 * pix[x,y][1]) + int(0.0721 * pix[x,y][2])\n",
    "        if(x % 28 == 0): \n",
    "            print(\"\\n\") \n",
    "        if(rgbToGrayscale != 0):                                                           \n",
    "            print(rgbToGrayscale, end=\"  \"),\n",
    "        else:\n",
    "            print(\" \", end=\"  \")\n",
    "            \n",
    "\n",
    "with open('test.csv', 'a+') as f: #Convert images into grayscale pixel values and store them in a .csv file \n",
    "    for y in range(28): \n",
    "        for x in range(28): \n",
    "            rgbToGrayscale = int(0.2125 * pix[x,y][0]) + int(0.7154 * pix[x,y][1]) + int(0.0721 * pix[x,y][2])\n",
    "            f.write(str(rgbToGrayscale))\n",
    "            if(x!=27) or (y!= 27): \n",
    "                f.write(\",\") \n",
    "    f.write(\"\\n\") \n",
    "                \n",
    "print(\"end\")"
   ]
  },
  {
   "cell_type": "code",
   "execution_count": 30,
   "metadata": {
    "scrolled": false
   },
   "outputs": [
    {
     "name": "stdout",
     "output_type": "stream",
     "text": [
      "start\n",
      "Done!     Output Number: 3\n",
      "end\n"
     ]
    }
   ],
   "source": [
    "print(\"start\")\n",
    "\n",
    "import warnings\n",
    "warnings.filterwarnings('ignore')                                               \n",
    "import time\n",
    "import sys\n",
    "\n",
    "\n",
    "\n",
    "import numpy as np                                                              #ml necessities\n",
    "import pandas as pd \n",
    "from sklearn.model_selection import train_test_split\n",
    "from sklearn.linear_model import LogisticRegression                                   #model used\n",
    "\n",
    "\n",
    "test = pd.read_csv('test.csv')                              \n",
    "\n",
    "trainData = pd.read_csv('train.csv').values\n",
    "\n",
    "\n",
    "    \n",
    "X = data[:, 1:]                                                                      #the actual data\n",
    "y = data[:, 0:1]                                                                     #the features(pixels)\n",
    "X_train, X_test, y_train, y_test = train_test_split(X, y, test_size=20, random_state=8)              #split train.csv into more parts\n",
    "\n",
    "testData = pd.read_csv('test.csv').values\n",
    "\n",
    "clf = LogisticRegression(max_iter=10)\n",
    "clf.fit(X_train, y_train)                                                         #actual model fitting on training data\n",
    "y_pred = clf.predict(testData)                                                    \n",
    "\n",
    "\n",
    "df = pd.DataFrame(data={'ImageId': list(range(1,test.shape[0]+1)), 'Label':y_pred});     #predicted data for t\n",
    "df.to_csv('MNIST_predictions.csv', index = False)                                  #the result of the predictions\n",
    "('\\nModel score = {} '.format(clf.score(X_test, y_test)))                                  #print accuracy from 0 to 1\n",
    "\n",
    "print(\"Output Number: \" + str(y_pred[-1]))                                      #predicts number in image\n",
    "print(\"end\")"
   ]
  }
 ],
 "metadata": {
  "kernelspec": {
   "display_name": "Python 3",
   "language": "python",
   "name": "python3"
  },
  "language_info": {
   "codemirror_mode": {
    "name": "ipython",
    "version": 3
   },
   "file_extension": ".py",
   "mimetype": "text/x-python",
   "name": "python",
   "nbconvert_exporter": "python",
   "pygments_lexer": "ipython3",
   "version": "3.7.0"
  }
 },
 "nbformat": 4,
 "nbformat_minor": 2
}
